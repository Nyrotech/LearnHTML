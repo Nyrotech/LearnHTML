{
 "cells": [
  {
   "cell_type": "markdown",
   "metadata": {},
   "source": [
    "HTML Training "
   ]
  },
  {
   "cell_type": "markdown",
   "metadata": {},
   "source": [
    "Welcome to HTML Training, This jypter notebook is intended for beginners in Web development to learn the basics of HTML. There will / are other notebooks that will cover other technologies such as CSS, Javascript and hosting. Now I know how odd it may be learning html from a jypter notebook but I decided to create the notebooks to create a sense of interactivity. \n",
    "\n",
    "Now before you turn around and delete these guides because you dont know python, dont worry. These Notebooks are created to ensure that any coding involved is simple and wont require you to learn python."
   ]
  },
  {
   "cell_type": "markdown",
   "metadata": {},
   "source": [
    "Let's dive in!\n",
    "\n",
    "Let's start by having you complete a basic exercise so you become comfortable with completing exercises.\n",
    "Below you will see the variable named \"Test\" followed by an = sign. After the = Sign please type \"Hello World!\" In between the Quotation marks"
   ]
  },
  {
   "cell_type": "code",
   "execution_count": 5,
   "metadata": {},
   "outputs": [],
   "source": [
    "Test = \"Hello World!\""
   ]
  },
  {
   "cell_type": "markdown",
   "metadata": {},
   "source": [
    "Great Job, now Click play on the code cell below to check if your response is correct."
   ]
  },
  {
   "cell_type": "code",
   "execution_count": 6,
   "metadata": {},
   "outputs": [
    {
     "name": "stdout",
     "output_type": "stream",
     "text": [
      "Great Job!\n"
     ]
    }
   ],
   "source": [
    "def Test_Check(Test):\n",
    "    Test = Test.lower()\n",
    "    if Test != \"hello world!\":\n",
    "        print(\"Sorry but that is incorrect\")\n",
    "    else:\n",
    "        print(\"Great Job!\")\n",
    "\n",
    "Test_Check(Test)"
   ]
  },
  {
   "cell_type": "markdown",
   "metadata": {},
   "source": [
    "If you ever experience an exercise where you cannot get the right answer please expand the function to see what the correct answer is. But please I encourage you to give it a few attempts before you view the answer."
   ]
  }
 ],
 "metadata": {
  "kernelspec": {
   "display_name": "Python 3",
   "language": "python",
   "name": "python3"
  },
  "language_info": {
   "codemirror_mode": {
    "name": "ipython",
    "version": 3
   },
   "file_extension": ".py",
   "mimetype": "text/x-python",
   "name": "python",
   "nbconvert_exporter": "python",
   "pygments_lexer": "ipython3",
   "version": "3.10.5"
  }
 },
 "nbformat": 4,
 "nbformat_minor": 2
}
